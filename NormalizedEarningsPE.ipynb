{
 "cells": [
  {
   "cell_type": "code",
   "execution_count": 43,
   "id": "de43c708-bad4-4010-be32-b5714f8cdb51",
   "metadata": {},
   "outputs": [],
   "source": [
    "# P/E Ratios Using Normalized Earnings\n",
    "# Reference: https://codingandfun.com/p-e-ratios-using-normalized-earnings/\n",
    "\n",
    "import pandas as pd\n",
    "import requests\n",
    "api_key = 'YOUR-API'\n",
    "company = 'AAPL'\n",
    "period = 'annual'\n",
    "eps = requests.get(f'https://financialmodelingprep.com/api/v3/income-statement/{company}?period={period}&limit=400&apikey={api_key}').json()"
   ]
  },
  {
   "cell_type": "code",
   "execution_count": 44,
   "id": "1bc81fa9-783b-4b00-ae4b-0a804d827e61",
   "metadata": {},
   "outputs": [
    {
     "data": {
      "text/plain": [
       "36"
      ]
     },
     "execution_count": 44,
     "metadata": {},
     "output_type": "execute_result"
    }
   ],
   "source": [
    "len(eps)"
   ]
  },
  {
   "cell_type": "code",
   "execution_count": 45,
   "id": "d8b797b2-a10f-458e-9fa6-d9014747cffc",
   "metadata": {},
   "outputs": [
    {
     "name": "stdout",
     "output_type": "stream",
     "text": [
      "61.99562646463375\n",
      "80.74953529428574\n"
     ]
    }
   ],
   "source": [
    "eps = eps[:8]\n",
    "\n",
    "analysis_data = {}\n",
    "for item in eps:\n",
    "  analysis_data[item['date']] = {}\n",
    "  analysis_data[item['date']]['eps'] =  item['epsdiluted']\n",
    "  \n",
    "analysis_data\n",
    "\n",
    "key_metrics = requests.get(f'https://financialmodelingprep.com/api/v3/key-metrics/{company}?period={period}&limit=400&apikey={api_key}').json()\n",
    "key_metrics = key_metrics[:8]\n",
    "for item in key_metrics:\n",
    "  analysis_data[item['date']]['BVPS'] = item['bookValuePerShare']\n",
    "  analysis_data[item['date']]['ROE'] = item['roe']\n",
    "  analysis_data[item['date']]['PE'] = item['peRatio']\n",
    "\n",
    "\n",
    "normalized_EPS = pd.DataFrame(analysis_data)\n",
    "normalized_EPS\n",
    "\n",
    "normalize_mean = normalized_EPS.mean(axis=1)\n",
    "eps_average = normalize_mean['eps']\n",
    "roe_average = normalize_mean['ROE']\n",
    "latest_BVPS = normalized_EPS.iloc[1:2,0][0]\n",
    "\n",
    "price= requests.get(f'https://financialmodelingprep.com/api/v3/profile/{company}?apikey={api_key}').json()\n",
    "price = price[0]['price']\n",
    "\n",
    "PEnormalized_average_eps = price/eps_average\n",
    "print(PEnormalized_average_eps)\n",
    "\n",
    "normalized_eps_average_ROE = roe_average*latest_BVPS\n",
    "PEnormalized_ROE_EPS = price/normalized_eps_average_ROE\n",
    "print(PEnormalized_ROE_EPS)"
   ]
  },
  {
   "cell_type": "code",
   "execution_count": 1,
   "id": "b83f70a2-d08f-46b9-8f82-9d3273f2fb24",
   "metadata": {},
   "outputs": [],
   "source": [
    "#print(key_metrics)"
   ]
  },
  {
   "cell_type": "code",
   "execution_count": null,
   "id": "9f0e3e08-a97d-47a4-b0ef-116fc83cb2f2",
   "metadata": {},
   "outputs": [],
   "source": []
  },
  {
   "cell_type": "code",
   "execution_count": null,
   "id": "b666c187-1993-440a-8a18-bd0c613bf810",
   "metadata": {},
   "outputs": [],
   "source": []
  }
 ],
 "metadata": {
  "kernelspec": {
   "display_name": "Python 3 (ipykernel)",
   "language": "python",
   "name": "python3"
  },
  "language_info": {
   "codemirror_mode": {
    "name": "ipython",
    "version": 3
   },
   "file_extension": ".py",
   "mimetype": "text/x-python",
   "name": "python",
   "nbconvert_exporter": "python",
   "pygments_lexer": "ipython3",
   "version": "3.8.8"
  }
 },
 "nbformat": 4,
 "nbformat_minor": 5
}
