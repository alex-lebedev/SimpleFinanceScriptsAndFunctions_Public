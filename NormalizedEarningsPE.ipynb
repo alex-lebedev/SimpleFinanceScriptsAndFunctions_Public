{
 "cells": [
  {
   "cell_type": "code",
   "execution_count": 43,
   "id": "API_KEY",
   "metadata": {},
   "outputs": [],
   "source": [
    "# P/E Ratios Using Normalized Earnings\n",
    "# Reference: https://codingandfun.com/p-e-ratios-using-normalized-earnings/\n",
    "\n",
    "import pandas as pd\n",
    "import requests\n",
    "api_key = 'API-KEY'\n",
    "company = 'AAPL'\n",
    "period = 'annual'\n",
    "eps = requests.get(f'https://financialmodelingprep.com/api/v3/income-statement/{company}?period={period}&limit=400&apikey={api_key}').json()"
   ]
  },
  {
   "cell_type": "code",
   "execution_count": 44,
   "id": "1bc81fa9-783b-4b00-ae4b-0a804d827e61",
   "metadata": {},
   "outputs": [
    {
     "data": {
      "text/plain": [
       "36"
      ]
     },
     "execution_count": 44,
     "metadata": {},
     "output_type": "execute_result"
    }
   ],
   "source": [
    "len(eps)"
   ]
  },
  {
   "cell_type": "code",
   "execution_count": 45,
   "id": "d8b797b2-a10f-458e-9fa6-d9014747cffc",
   "metadata": {},
   "outputs": [
    {
     "name": "stdout",
     "output_type": "stream",
     "text": [
      "61.99562646463375\n",
      "80.74953529428574\n"
     ]
    }
   ],
   "source": [
    "eps = eps[:8]\n",
    "\n",
    "analysis_data = {}\n",
    "for item in eps:\n",
    "  analysis_data[item['date']] = {}\n",
    "  analysis_data[item['date']]['eps'] =  item['epsdiluted']\n",
    "  \n",
    "analysis_data\n",
    "\n",
    "key_metrics = requests.get(f'https://financialmodelingprep.com/api/v3/key-metrics/{company}?period={period}&limit=400&apikey={api_key}').json()\n",
    "key_metrics = key_metrics[:8]\n",
    "for item in key_metrics:\n",
    "  analysis_data[item['date']]['BVPS'] = item['bookValuePerShare']\n",
    "  analysis_data[item['date']]['ROE'] = item['roe']\n",
    "  analysis_data[item['date']]['PE'] = item['peRatio']\n",
    "\n",
    "\n",
    "normalized_EPS = pd.DataFrame(analysis_data)\n",
    "normalized_EPS\n",
    "\n",
    "normalize_mean = normalized_EPS.mean(axis=1)\n",
    "eps_average = normalize_mean['eps']\n",
    "roe_average = normalize_mean['ROE']\n",
    "latest_BVPS = normalized_EPS.iloc[1:2,0][0]\n",
    "\n",
    "price= requests.get(f'https://financialmodelingprep.com/api/v3/profile/{company}?apikey={api_key}').json()\n",
    "price = price[0]['price']\n",
    "\n",
    "PEnormalized_average_eps = price/eps_average\n",
    "print(PEnormalized_average_eps)\n",
    "\n",
    "normalized_eps_average_ROE = roe_average*latest_BVPS\n",
    "PEnormalized_ROE_EPS = price/normalized_eps_average_ROE\n",
    "print(PEnormalized_ROE_EPS)"
   ]
  },
  {
   "cell_type": "code",
   "execution_count": 28,
   "id": "b83f70a2-d08f-46b9-8f82-9d3273f2fb24",
   "metadata": {},
   "outputs": [
    {
     "name": "stdout",
     "output_type": "stream",
     "text": [
      "[{'symbol': 'MSFT', 'date': '2021-06-30', 'period': 'FY', 'revenuePerShare': 22.27216112362528, 'netIncomePerShare': 8.118590168278786, 'operatingCashFlowPerShare': 10.16827878627269, 'freeCashFlowPerShare': 7.435802305551875, 'cashPerShare': 17.269643566980257, 'bookValuePerShare': 18.813833311249503, 'tangibleBookValuePerShare': 11.193454352722936, 'shareholdersEquityPerShare': 18.813833311249503, 'interestDebtPerShare': 9.291241552934942, 'marketCap': 2150215800188, 'enterpriseValue': 2206242800188, 'peRatio': 35.093532016582074, 'priceToSalesRatio': 12.792202894840798, 'pocfratio': 28.019491792911133, 'pfcfRatio': 38.31597348779358, 'pbRatio': 15.143644534664903, 'ptbRatio': 15.143644534664903, 'evToSales': 13.125522346556565, 'enterpriseValueOverEBITDA': 25.914943503042263, 'evToOperatingCashFlow': 28.749580403805055, 'evToFreeCashFlow': 39.31435190470081, 'earningsYield': 0.02849527940155722, 'freeCashFlowYield': 0.02609877575780693, 'debtToEquity': 0.4204791954249655, 'debtToAssets': 0.5746047534446445, 'netDebtToEBITDA': 0.6581036953508587, 'currentRatio': 2.0799936835218875, 'interestCoverage': 29.80221653878943, 'incomeQuality': 1.2524685413980512, 'dividendYield': 0.007683414845410175, 'payoutRatio': 0.269638164874084, 'salesGeneralAndAdministrativeToRevenue': 0.030382894674218265, 'researchAndDdevelopementToRevenue': 0.12324496692208843, 'intangiblesToTotalAssets': 0.17230263138184249, 'capexToOperatingCashFlow': -0.26872556684910087, 'capexToRevenue': -0.12268573604302509, 'capexToDepreciation': -1.7646756803012151, 'stockBasedCompensationToRevenue': 0.036397601256484696, 'grahamNumber': 58.6232935643997, 'roic': 0.28522939597424957, 'returnOnTangibleAssets': 0.22178102422285606, 'grahamNetNet': -4.187988604743607, 'workingCapital': 95749000000, 'tangibleAssetValue': 84477000000, 'netCurrentAssetValue': -7385000000, 'investedCapital': 0.4773290700622588, 'averageReceivables': 35027000000, 'averagePayables': 13846500000, 'averageInventory': 2265500000, 'daysSalesOutstanding': 82.6096746942078, 'daysPayablesOutstanding': 105.95985219788636, 'daysOfInventoryOnHand': 18.420508500536073, 'receivablesTurnover': 4.418368688063507, 'payablesTurnover': 3.4447009167051377, 'inventoryTurnover': 19.814871016691956, 'roe': 0.4315223821731414, 'capexPerShare': -2.732476480720816}, {'symbol': 'MSFT', 'date': '2020-06-30', 'period': 'FY', 'revenuePerShare': 18.793035479632064, 'netIncomePerShare': 5.818791064388962, 'operatingCashFlowPerShare': 7.973061760840999, 'freeCashFlowPerShare': 5.944021024967149, 'cashPerShare': 17.94047306176084, 'bookValuePerShare': 15.545860709592642, 'tangibleBookValuePerShare': 8.924441524310119, 'shareholdersEquityPerShare': 15.545860709592642, 'interestDebtPerShare': 8.662023653088042, 'marketCap': 1551678954340, 'enterpriseValue': 1601429954340, 'peRatio': 35.041642111515095, 'priceToSalesRatio': 10.849763691500891, 'pocfratio': 25.57361276209312, 'pfcfRatio': 34.303376980589825, 'pbRatio': 13.116031193704353, 'ptbRatio': 13.116031193704353, 'evToSales': 11.197636292277034, 'enterpriseValueOverEBITDA': 23.404848579278898, 'evToOperatingCashFlow': 26.393571558961682, 'evToFreeCashFlow': 35.40323549409736, 'earningsYield': 0.028537475407620472, 'freeCashFlowYield': 0.029151648846871218, 'debtToEquity': 0.5036008926156343, 'debtToAssets': 0.6073691302342098, 'netDebtToEBITDA': 0.72710930535054, 'currentRatio': 2.5157654542940118, 'interestCoverage': 20.439598610575068, 'incomeQuality': 1.370226507983108, 'dividendYield': 0.009755239611687882, 'payoutRatio': 0.34183961518484224, 'salesGeneralAndAdministrativeToRevenue': 0.03573751005139321, 'researchAndDdevelopementToRevenue': 0.1347341187987274, 'intangiblesToTotalAssets': 0.16723252718951515, 'capexToOperatingCashFlow': -0.25448702101359705, 'capexToRevenue': -0.10796769569625564, 'capexToDepreciation': -1.206705220381369, 'stockBasedCompensationToRevenue': 0.036982134741111075, 'grahamNumber': 45.114383473203915, 'roic': 0.231260998860267, 'returnOnTangibleAssets': 0.1764731669602506, 'grahamNetNet': -2.8284165571616295, 'workingCapital': 109605000000, 'tangibleAssetValue': 67915000000, 'netCurrentAssetValue': -1092000000, 'investedCapital': 0.5352904381931296, 'averageReceivables': 32011000000, 'averagePayables': 12530000000, 'averageInventory': 1895000000, 'daysSalesOutstanding': 81.69782889906652, 'daysPayablesOutstanding': 99.25452493597813, 'daysOfInventoryOnHand': 15.010959677069318, 'receivablesTurnover': 4.4676829839742584, 'payablesTurnover': 3.677414205905826, 'inventoryTurnover': 24.3155672823219, 'roe': 0.37429841763592103, 'capexPerShare': -2.02904073587385}, {'symbol': 'MSFT', 'date': '2019-06-30', 'period': 'FY', 'revenuePerShare': 16.40075589730223, 'netIncomePerShare': 5.114036230939659, 'operatingCashFlowPerShare': 6.801120813241235, 'freeCashFlowPerShare': 4.986315652287241, 'cashPerShare': 17.440245014987617, 'bookValuePerShare': 13.336374299491725, 'tangibleBookValuePerShare': 6.849211520917503, 'shareholdersEquityPerShare': 13.336374299491725, 'interestDebtPerShare': 9.756809592076111, 'marketCap': 1076905596038, 'enterpriseValue': 1137727596038, 'peRatio': 27.44407737099898, 'priceToSalesRatio': 8.557532767321186, 'pocfratio': 20.63630537583597, 'pfcfRatio': 28.147035965446943, 'pbRatio': 10.523850249565132, 'ptbRatio': 10.523850249565132, 'evToSales': 9.04084928075459, 'enterpriseValueOverEBITDA': 19.597071724507373, 'evToOperatingCashFlow': 21.80181270552841, 'evToFreeCashFlow': 29.736738004129638, 'earningsYield': 0.03643773432357145, 'freeCashFlowYield': 0.035527719551983784, 'debtToEquity': 0.6514414150298056, 'debtToAssets': 0.6428970253632798, 'netDebtToEBITDA': 1.0476436544026457, 'currentRatio': 2.5288389513108616, 'interestCoverage': 15.99367088607595, 'incomeQuality': 1.3298929663608563, 'dividendYield': 0.01282470817387475, 'payoutRatio': 0.35196228338430174, 'salesGeneralAndAdministrativeToRevenue': 0.0388182099918152, 'researchAndDdevelopementToRevenue': 0.13410360528595155, 'intangiblesToTotalAssets': 0.17370426722874413, 'capexToOperatingCashFlow': -0.2668391300182045, 'capexToRevenue': -0.11065375110256431, 'capexToDepreciation': -1.192004793699709, 'stockBasedCompensationToRevenue': 0.036966696598142126, 'grahamNumber': 39.173470366204434, 'roic': 0.1978437476972957, 'returnOnTangibleAssets': 0.16572345637300448, 'grahamNetNet': -3.5491333246448584, 'workingCapital': 106132000000, 'tangibleAssetValue': 52554000000, 'netCurrentAssetValue': -8674000000, 'investedCapital': 0.705345450991889, 'averageReceivables': 30767500000, 'averagePayables': 10956000000, 'averageInventory': 1979000000, 'daysSalesOutstanding': 85.63257392147358, 'daysPayablesOutstanding': 79.80494057329294, 'daysOfInventoryOnHand': 17.548240503379166, 'receivablesTurnover': 4.262396694214876, 'payablesTurnover': 4.5736516734171815, 'inventoryTurnover': 20.799806107610276, 'roe': 0.3834652594547054, 'capexPerShare': -1.8148051609539946}, {'symbol': 'MSFT', 'date': '2018-06-30', 'period': 'FY', 'revenuePerShare': 14.332467532467533, 'netIncomePerShare': 2.1520779220779223, 'operatingCashFlowPerShare': 5.699220779220779, 'freeCashFlowPerShare': 4.188571428571429, 'cashPerShare': 17.37246753246753, 'bookValuePerShare': 10.742597402597402, 'tangibleBookValuePerShare': 5.062597402597403, 'shareholdersEquityPerShare': 10.742597402597402, 'interestDebtPerShare': 10.256233766233766, 'marketCap': 811349023100, 'enterpriseValue': 875643023100, 'peRatio': 48.961983169392305, 'priceToSalesRatio': 7.351839643892714, 'pocfratio': 18.488492915413364, 'pfcfRatio': 25.1565491473397, 'pbRatio': 9.808615091032182, 'ptbRatio': 9.808615091032182, 'evToSales': 7.934423913555636, 'enterpriseValueOverEBITDA': 17.701201243227946, 'evToOperatingCashFlow': 19.95358269756631, 'evToFreeCashFlow': 27.15003792322957, 'earningsYield': 0.020424009308208164, 'freeCashFlowYield': 0.03975108009222918, 'debtToEquity': 0.8733528373509998, 'debtToAssets': 0.6804379404129064, 'netDebtToEBITDA': 1.299708902724994, 'currentRatio': 2.900800164136233, 'interestCoverage': 12.827661909989024, 'incomeQuality': 2.6482409027819687, 'dividendYield': 0.0156517104703962, 'payoutRatio': 0.7663387846237403, 'salesGeneralAndAdministrativeToRevenue': 0.043077201884740846, 'researchAndDdevelopementToRevenue': 0.1334360275462124, 'intangiblesToTotalAssets': 0.1689640252194338, 'capexToOperatingCashFlow': -0.26506243733479173, 'capexToRevenue': -0.10540050743022834, 'capexToDepreciation': -1.1336127083130298, 'stockBasedCompensationToRevenue': 0.03570134106560348, 'grahamNumber': 22.807354091559674, 'roic': 0.17497504491914553, 'returnOnTangibleAssets': 0.0770342891145078, 'grahamNetNet': -2.749383116883117, 'workingCapital': 111174000000, 'tangibleAssetValue': 38982000000, 'netCurrentAssetValue': -6468000000, 'investedCapital': 0.9216857274112044, 'averageReceivables': 29246000000, 'averagePayables': 10573500000, 'averageInventory': 2278500000, 'daysSalesOutstanding': 87.58214026821311, 'daysPayablesOutstanding': 82.00675305712721, 'daysOfInventoryOnHand': 25.333872187312597, 'receivablesTurnover': 4.167516332464786, 'payablesTurnover': 4.45085296506905, 'inventoryTurnover': 14.407588279489106, 'roe': 0.20033124591987234, 'capexPerShare': -1.5106493506493506}, {'symbol': 'MSFT', 'date': '2017-06-30', 'period': 'FY', 'revenuePerShare': 11.612445132971857, 'netIncomePerShare': 2.737412858249419, 'operatingCashFlowPerShare': 5.1003098373353986, 'freeCashFlowPerShare': 4.050864962561322, 'cashPerShare': 17.167699457784664, 'bookValuePerShare': 9.345985024528789, 'tangibleBookValuePerShare': 3.507100438936225, 'shareholdersEquityPerShare': 9.345985024528789, 'interestDebtPerShare': 11.414407436096049, 'marketCap': 565767847746, 'enterpriseValue': 644298847746, 'peRatio': 26.682128265704584, 'priceToSalesRatio': 6.289803754819344, 'pocfratio': 14.320698806439367, 'pfcfRatio': 18.030717309771177, 'pbRatio': 7.81512069710197, 'ptbRatio': 7.81512069710197, 'evToSales': 7.16285545020567, 'enterpriseValueOverEBITDA': 18.86728301695511, 'evToOperatingCashFlow': 16.30847312491457, 'evToFreeCashFlow': 20.53345808356173, 'earningsYield': 0.037478269725782436, 'freeCashFlowYield': 0.055460910557234545, 'debtToEquity': 1.050819128657071, 'debtToAssets': 0.6997171133952199, 'netDebtToEBITDA': 2.299657383817974, 'currentRatio': 2.4772730794861064, 'interestCoverage': 10.185418541854185, 'incomeQuality': 1.8631861912846632, 'dividendYield': 0.020936149071019285, 'payoutRatio': 0.5586210149028485, 'salesGeneralAndAdministrativeToRevenue': 0.049816564758199, 'researchAndDdevelopementToRevenue': 0.1449360755975542, 'intangiblesToTotalAssets': 0.18760110499987556, 'capexToOperatingCashFlow': -0.20576100437897082, 'capexToRevenue': -0.09037242912729294, 'capexToDepreciation': -0.9260651629072681, 'stockBasedCompensationToRevenue': 0.03630906058921623, 'grahamNumber': 23.992414228895587, 'roic': 0.12818377992625696, 'returnOnTangibleAssets': 0.10826210826210826, 'grahamNetNet': -2.5531241931319393, 'workingCapital': 95324000000, 'tangibleAssetValue': 27166000000, 'netCurrentAssetValue': -8841000000, 'investedCapital': 1.190623532336934, 'averageReceivables': 25901500000, 'averagePayables': 9960000000, 'averageInventory': 2038000000, 'daysSalesOutstanding': 80.31217342968316, 'daysPayablesOutstanding': 78.72945915180526, 'daysOfInventoryOnHand': 23.235311286885963, 'receivablesTurnover': 4.544765561843169, 'payablesTurnover': 4.636129905277402, 'inventoryTurnover': 15.708849151765245, 'roe': 0.2928972014255325, 'capexPerShare': -1.049444874774077}]\n"
     ]
    }
   ],
   "source": [
    "print(key_metrics)"
   ]
  },
  {
   "cell_type": "code",
   "execution_count": null,
   "id": "9f0e3e08-a97d-47a4-b0ef-116fc83cb2f2",
   "metadata": {},
   "outputs": [],
   "source": []
  },
  {
   "cell_type": "code",
   "execution_count": null,
   "id": "b666c187-1993-440a-8a18-bd0c613bf810",
   "metadata": {},
   "outputs": [],
   "source": []
  }
 ],
 "metadata": {
  "kernelspec": {
   "display_name": "Python 3 (ipykernel)",
   "language": "python",
   "name": "python3"
  },
  "language_info": {
   "codemirror_mode": {
    "name": "ipython",
    "version": 3
   },
   "file_extension": ".py",
   "mimetype": "text/x-python",
   "name": "python",
   "nbconvert_exporter": "python",
   "pygments_lexer": "ipython3",
   "version": "3.8.8"
  }
 },
 "nbformat": 4,
 "nbformat_minor": 5
}
