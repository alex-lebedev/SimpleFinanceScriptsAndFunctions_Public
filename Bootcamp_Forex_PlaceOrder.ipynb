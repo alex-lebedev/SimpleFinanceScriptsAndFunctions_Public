{
 "cells": [
  {
   "cell_type": "code",
   "execution_count": null,
   "id": "lyric-pickup",
   "metadata": {},
   "outputs": [],
   "source": [
    "class BootCampTask(QCAlgorithm):\n",
    "\n",
    "    def Initialize(self):\n",
    "        self.SetCash(100000)\n",
    "        self.SetStartDate(2017, 5, 1)\n",
    "        self.SetEndDate(2017, 5, 31)\n",
    "        \n",
    "        #1. Request the forex data\n",
    "        self.AddForex(\"AUDUSD\", Resolution.Hour)\n",
    "        #2. Set the brokerage model\n",
    "        self.SetBrokerageModel(BrokerageName.OandaBrokerage)\n",
    "        \n",
    "    def OnData(self, data):\n",
    "       if not self.Portfolio.Invested:\n",
    "           self.MarketOrder(\"AUDUSD\", 2000)"
   ]
  }
 ],
 "metadata": {
  "kernelspec": {
   "display_name": "Python 3",
   "language": "python",
   "name": "python3"
  },
  "language_info": {
   "codemirror_mode": {
    "name": "ipython",
    "version": 3
   },
   "file_extension": ".py",
   "mimetype": "text/x-python",
   "name": "python",
   "nbconvert_exporter": "python",
   "pygments_lexer": "ipython3",
   "version": "3.8.5"
  }
 },
 "nbformat": 4,
 "nbformat_minor": 5
}
