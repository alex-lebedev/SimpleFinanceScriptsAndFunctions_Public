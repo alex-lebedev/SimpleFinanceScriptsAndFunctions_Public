{
 "cells": [
  {
   "cell_type": "code",
   "execution_count": 1,
   "id": "alone-guyana",
   "metadata": {},
   "outputs": [
    {
     "ename": "NameError",
     "evalue": "name 'QCAlgorithm' is not defined",
     "output_type": "error",
     "traceback": [
      "\u001b[0;31m---------------------------------------------------------------------------\u001b[0m",
      "\u001b[0;31mNameError\u001b[0m                                 Traceback (most recent call last)",
      "\u001b[0;32m<ipython-input-1-9a18a5b207d2>\u001b[0m in \u001b[0;36m<module>\u001b[0;34m\u001b[0m\n\u001b[0;32m----> 1\u001b[0;31m \u001b[0;32mclass\u001b[0m \u001b[0mBootCampTask\u001b[0m\u001b[0;34m(\u001b[0m\u001b[0mQCAlgorithm\u001b[0m\u001b[0;34m)\u001b[0m\u001b[0;34m:\u001b[0m\u001b[0;34m\u001b[0m\u001b[0;34m\u001b[0m\u001b[0m\n\u001b[0m\u001b[1;32m      2\u001b[0m \u001b[0;34m\u001b[0m\u001b[0m\n\u001b[1;32m      3\u001b[0m     \u001b[0;32mdef\u001b[0m \u001b[0mInitialize\u001b[0m\u001b[0;34m(\u001b[0m\u001b[0mself\u001b[0m\u001b[0;34m)\u001b[0m\u001b[0;34m:\u001b[0m\u001b[0;34m\u001b[0m\u001b[0;34m\u001b[0m\u001b[0m\n\u001b[1;32m      4\u001b[0m         \u001b[0mself\u001b[0m\u001b[0;34m.\u001b[0m\u001b[0mSetStartDate\u001b[0m\u001b[0;34m(\u001b[0m\u001b[0;36m2017\u001b[0m\u001b[0;34m,\u001b[0m \u001b[0;36m6\u001b[0m\u001b[0;34m,\u001b[0m \u001b[0;36m1\u001b[0m\u001b[0;34m)\u001b[0m\u001b[0;34m\u001b[0m\u001b[0;34m\u001b[0m\u001b[0m\n\u001b[1;32m      5\u001b[0m         \u001b[0mself\u001b[0m\u001b[0;34m.\u001b[0m\u001b[0mSetEndDate\u001b[0m\u001b[0;34m(\u001b[0m\u001b[0;36m2017\u001b[0m\u001b[0;34m,\u001b[0m \u001b[0;36m6\u001b[0m\u001b[0;34m,\u001b[0m \u001b[0;36m15\u001b[0m\u001b[0;34m)\u001b[0m\u001b[0;34m\u001b[0m\u001b[0;34m\u001b[0m\u001b[0m\n",
      "\u001b[0;31mNameError\u001b[0m: name 'QCAlgorithm' is not defined"
     ]
    }
   ],
   "source": [
    "class BootCampTask(QCAlgorithm):\n",
    "\n",
    "    def Initialize(self):\n",
    "        self.SetStartDate(2017, 6, 1)\n",
    "        self.SetEndDate(2017, 6, 15)\n",
    "\n",
    "        #1,2. Select IWM minute resolution data and set it to Raw normalization mode\n",
    "        self.iwm = self.AddEquity('IWM', Resolution.Minute)\n",
    "        self.iwm.SetDataNormalizationMode(DataNormalizationMode.Raw)\n",
    "    def OnData(self, data):\n",
    "        #3. Place an order for 100 shares of IWM and print the average fill price\n",
    "        if not self.Portfolio.Invested:\n",
    "            self.MarketOrder('IWM', 100)\n",
    "            self.Debug( str(self.Portfolio['IWM'].AveragePrice) )"
   ]
  },
  {
   "cell_type": "code",
   "execution_count": null,
   "id": "interracial-atmosphere",
   "metadata": {},
   "outputs": [],
   "source": []
  },
  {
   "cell_type": "code",
   "execution_count": null,
   "id": "genuine-poetry",
   "metadata": {},
   "outputs": [],
   "source": []
  }
 ],
 "metadata": {
  "kernelspec": {
   "display_name": "Python 3",
   "language": "python",
   "name": "python3"
  },
  "language_info": {
   "codemirror_mode": {
    "name": "ipython",
    "version": 3
   },
   "file_extension": ".py",
   "mimetype": "text/x-python",
   "name": "python",
   "nbconvert_exporter": "python",
   "pygments_lexer": "ipython3",
   "version": "3.8.5"
  }
 },
 "nbformat": 4,
 "nbformat_minor": 5
}
